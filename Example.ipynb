{
 "cells": [
  {
   "cell_type": "code",
   "execution_count": 17,
   "id": "454d8d2e",
   "metadata": {},
   "outputs": [],
   "source": [
    "import warnings\n",
    "warnings.filterwarnings(\"ignore\")\n",
    "\n",
    "import pandas as pd\n",
    "import numpy as np\n",
    "import tqdm\n",
    "import json\n",
    "from collections import defaultdict\n",
    "\n",
    "import Support.support_data as load\n",
    "import Support.support_aggregation as aggr\n",
    "import Support.support_prediction as pred\n",
    "\n",
    "%matplotlib inline\n",
    "import matplotlib.pyplot as plt"
   ]
  },
  {
   "cell_type": "markdown",
   "id": "7fa3ce75",
   "metadata": {},
   "source": [
    "# Read Data"
   ]
  },
  {
   "cell_type": "code",
   "execution_count": 2,
   "id": "ba426908",
   "metadata": {},
   "outputs": [
    {
     "name": "stderr",
     "output_type": "stream",
     "text": [
      "100%|███████████████████████████████████████████████████████████████████| 1070760/1070760 [00:00<00:00, 2126162.45it/s]\n",
      "100%|█████████████████████████████████████████████████████████████████████████| 69817/69817 [00:00<00:00, 81684.21it/s]\n"
     ]
    }
   ],
   "source": [
    "glasgow_file = 'Data/words_glasgow.csv' # Features from Glasgow Norms\n",
    "plets_file = 'Data/4plets' # Free associations from SWoW\n",
    "freq_age_file = 'Data/LogFreqandAgeofAcq.txt' # Age from Kuperman\n",
    "freq_file = 'Data/word_freqs.txt' # Frequency from OpenSubtitles\n",
    "\n",
    "filter_words,\\\n",
    "ordered_plets,\\\n",
    "feature_dicts,\\\n",
    "feature_names,\\\n",
    "new_norm_plets,\\\n",
    "freq_plets = load.read_pipeline(glasgow_file, plets_file, freq_age_file, freq_file)"
   ]
  },
  {
   "cell_type": "code",
   "execution_count": 4,
   "id": "1fbec193",
   "metadata": {},
   "outputs": [
    {
     "data": {
      "text/plain": [
       "{'length': [3],\n",
       " 'arousal': [6.147],\n",
       " 'valence': [7.067],\n",
       " 'dominance': [6.242],\n",
       " 'concreteness': [6.833],\n",
       " 'semsize': [3.273],\n",
       " 'gender': [4.606],\n",
       " 'familiarity': [6.84],\n",
       " 'polysemy': [8],\n",
       " 'frequency': [10.3702985908827],\n",
       " 'aoa': [2.8]}"
      ]
     },
     "execution_count": 4,
     "metadata": {},
     "output_type": "execute_result"
    }
   ],
   "source": [
    "feature_dicts['dog']"
   ]
  },
  {
   "cell_type": "code",
   "execution_count": 6,
   "id": "e004dd59",
   "metadata": {},
   "outputs": [],
   "source": [
    "nodes = sorted(list(feature_dicts.keys()))"
   ]
  },
  {
   "cell_type": "markdown",
   "id": "50ab6fb4",
   "metadata": {},
   "source": [
    "# Graph and Hypergraph Creation"
   ]
  },
  {
   "cell_type": "code",
   "execution_count": 7,
   "id": "65d11c16",
   "metadata": {},
   "outputs": [
    {
     "name": "stderr",
     "output_type": "stream",
     "text": [
      "100%|████████████████████████████████████████████████████████████████████| 1129795/1129795 [00:05<00:00, 217793.36it/s]\n"
     ]
    },
    {
     "name": "stdout",
     "output_type": "stream",
     "text": [
      "Graph\n",
      "N: 3586 L: 165690\n"
     ]
    }
   ],
   "source": [
    "# strategy='all' : all words in the response are connected\n",
    "# strategy='g1' : cue is connected to the first response\n",
    "# strategy='g123' : cue is connected to all the responses\n",
    "\n",
    "g = load.create_graph(filter_words, ordered_plets, feature_dicts, strategy='g123')\n",
    "to_rem = [n for n in g.nodes() if n not in filter_words]\n",
    "g.remove_nodes_from(to_rem)\n",
    "\n",
    "print('Graph')\n",
    "print('N:', g.number_of_nodes(), 'L:', g.number_of_edges())"
   ]
  },
  {
   "cell_type": "code",
   "execution_count": 8,
   "id": "93925757",
   "metadata": {},
   "outputs": [
    {
     "name": "stderr",
     "output_type": "stream",
     "text": [
      "100%|█████████████████████████████████████████████████████████████████████████| 67600/67600 [00:00<00:00, 95677.22it/s]\n"
     ]
    },
    {
     "name": "stdout",
     "output_type": "stream",
     "text": [
      "Hypergraph\n",
      "N: 3586 L: 67600\n"
     ]
    }
   ],
   "source": [
    "h = load.create_hypergraph(filter_words, new_norm_plets, feature_dicts, feature_names, freq_plets, glasgow_attrs=True)\n",
    "nodes_in_he = load.hypergraph_neighbors(h)\n",
    "\n",
    "print('Hypergraph')\n",
    "print('N:', len(h.get_node_set()), 'L:',len(h.get_hyperedge_id_set()))"
   ]
  },
  {
   "cell_type": "markdown",
   "id": "af043e6c",
   "metadata": {},
   "source": [
    "# Aggregation Strategies"
   ]
  },
  {
   "cell_type": "code",
   "execution_count": 9,
   "id": "0f77d86c",
   "metadata": {},
   "outputs": [],
   "source": [
    "# No aggregation\n",
    "to_df_attr = aggr.no_aggr(nodes, feature_names, feature_dicts)"
   ]
  },
  {
   "cell_type": "code",
   "execution_count": 10,
   "id": "81b25ea6",
   "metadata": {},
   "outputs": [],
   "source": [
    "# Graph Ego-Network\n",
    "to_df_graph = aggr.graph_ego_net(g, feature_names, w=False)\n",
    "\n",
    "# Weighted Graph Ego-Networks\n",
    "to_df_graph_w = aggr.graph_ego_net(g, feature_names, w=True)"
   ]
  },
  {
   "cell_type": "code",
   "execution_count": 11,
   "id": "27630a35",
   "metadata": {},
   "outputs": [],
   "source": [
    "# Graph Community: Louvain and EVA\n",
    "#to_df_evas = aggr.louv_eva(g, feature_names, feature_dicts)"
   ]
  },
  {
   "cell_type": "code",
   "execution_count": 12,
   "id": "abb2e261",
   "metadata": {},
   "outputs": [
    {
     "name": "stderr",
     "output_type": "stream",
     "text": [
      "100%|████████████████████████████████████████████████████████████████████████████| 3586/3586 [00:01<00:00, 1969.98it/s]\n"
     ]
    }
   ],
   "source": [
    "# Graph Community: Lemon\n",
    "##### ONLY ONCE ####\n",
    "# aggr.run_lemon(g, savefile='Data/lemon_plets.txt')\n",
    "####################\n",
    "lemon_plets = load.read_lemon_plets('Data/lemon_plets.txt')\n",
    "to_df_lemon = aggr.lemon(g, lemon_plets, feature_names) "
   ]
  },
  {
   "cell_type": "code",
   "execution_count": 13,
   "id": "ee5e374b",
   "metadata": {},
   "outputs": [],
   "source": [
    "# Hypergraph Ego-Network\n",
    "to_df_hyper = aggr.hypergraph_ego_net(h, feature_names)"
   ]
  },
  {
   "cell_type": "markdown",
   "id": "7ea5738e",
   "metadata": {},
   "source": [
    "### Aggregation Example"
   ]
  },
  {
   "cell_type": "code",
   "execution_count": 14,
   "id": "df03ccf0",
   "metadata": {},
   "outputs": [
    {
     "name": "stdout",
     "output_type": "stream",
     "text": [
      "Non Network: 3\n",
      "Graph Ego-Network: 5.656934306569343\n",
      "Weighted Graph Ego-Network: 1.870456204379562\n",
      "Graph Community -- Lemon: 4.4375\n",
      "Hypergraph Ego-Network: 4.50291757840992\n"
     ]
    }
   ],
   "source": [
    "example = 'dog'\n",
    "variable = 'length'\n",
    "ind = nodes.index(example)\n",
    "\n",
    "print('Non Network: ' + str(to_df_attr[variable][ind]))\n",
    "print('Graph Ego-Network: ' +  str(to_df_graph[variable][ind]))\n",
    "print('Weighted Graph Ego-Network: ' +  str(to_df_graph_w[variable][ind]))\n",
    "#print('Graph Community -- Louvain: ' +  str(to_df_evas[0][variable][ind]))\n",
    "#print('Graph Community -- EVA: ' +  str(to_df_evas[1][variable][ind]))\n",
    "print('Graph Community -- Lemon: ' +  str(to_df_lemon[variable][ind]))\n",
    "print('Hypergraph Ego-Network: ' +  str(to_df_hyper[variable][ind]))"
   ]
  },
  {
   "cell_type": "markdown",
   "id": "b2c4f987",
   "metadata": {},
   "source": [
    "# Prediction"
   ]
  },
  {
   "cell_type": "code",
   "execution_count": 15,
   "id": "f5786110",
   "metadata": {},
   "outputs": [],
   "source": [
    "dfs, dfs_names = pred.format_dataframes (\n",
    "    nodes, #list of words\n",
    "    to_df_attr, # non-network\n",
    "    to_df_graph_w, # graph ego-network\n",
    "    [],\n",
    "    [],\n",
    "    #to_df_evas[0], # graph louvain\n",
    "    #to_df_evas[1], # graph eva\n",
    "    to_df_lemon, # graph lemon\n",
    "    to_df_hyper # hypergraph ego-network\n",
    ")"
   ]
  },
  {
   "cell_type": "code",
   "execution_count": 16,
   "id": "f400c9bd",
   "metadata": {},
   "outputs": [
    {
     "data": {
      "text/plain": [
       "['attr', 'egonet', 'lemon', 'hego']"
      ]
     },
     "execution_count": 16,
     "metadata": {},
     "output_type": "execute_result"
    }
   ],
   "source": [
    "dfs_names"
   ]
  },
  {
   "cell_type": "code",
   "execution_count": null,
   "id": "4ad5dc4c",
   "metadata": {},
   "outputs": [],
   "source": [
    "# rf: random forest regressor;\n",
    "# linear: linear regression;\n",
    "# ada: adaboost regressor;\n",
    "# svr: support vector regressor;\n",
    "\n",
    "res_all = defaultdict(lambda: defaultdict(dict))\n",
    "#for to_pred in tqdm.tqdm(feature_names):\n",
    "for to_pred in tqdm.tqdm(['concreteness']):\n",
    "    print(to_pred)\n",
    "    res = pred.ml_cv_pipeline(dfs, dfs_names, to_pred, which='rf', n_cv=10) \n",
    "    res_all[to_pred] = res\n",
    "    \n",
    "    print(res)"
   ]
  },
  {
   "cell_type": "code",
   "execution_count": null,
   "id": "315140ef",
   "metadata": {},
   "outputs": [],
   "source": [
    "#open('Data/Predictions.json', 'w') as outfile:\n",
    "#    json.dump(res_all, outfile)"
   ]
  },
  {
   "cell_type": "markdown",
   "id": "3a718cef",
   "metadata": {},
   "source": [
    "# Viz"
   ]
  },
  {
   "cell_type": "code",
   "execution_count": null,
   "id": "5814026a",
   "metadata": {},
   "outputs": [],
   "source": [
    "res_pred = json.load(open('Data/Predictions.json'))\n",
    "\n",
    "for variable in feature_names:\n",
    "    evals = 'RMSE'\n",
    "\n",
    "    to_pl_m = []\n",
    "    to_pl_std = []\n",
    "    for name in ['attr', 'egonet', 'louv', 'eva', 'lemon', 'hego']:\n",
    "        to_pl_m.append(abs(res_pred[variable][name][evals]['M']))\n",
    "        to_pl_std.append(res_pred[variable][name][evals]['STD']/np.sqrt(10))\n",
    "\n",
    "    plt.figure(figsize=(7,4.5))\n",
    "    width = 0.52\n",
    "    plt.bar(range(len(to_pl_m)), to_pl_m, width, color='blue', alpha=0.5, )\n",
    "    plt.errorbar(range(len(to_pl_m)), to_pl_m, elinewidth=2, yerr=to_pl_std,\n",
    "                 fmt='none',\n",
    "                 color='k', alpha=0.8)\n",
    "\n",
    "    for i, v in enumerate(to_pl_m):\n",
    "        plt.text(i-0.18, round(v,2)+0.05, str(round(v,2)), fontsize=16)\n",
    "\n",
    "    plt.ylim(0,max(to_pl_m)+0.2)\n",
    "    plt.xticks(range(len(to_pl_m)), ['Non-Net', 'G:Ego-Net', 'G:Louvain', 'G:EVA', 'G:Lemon', 'Hypergraph'],\n",
    "               rotation=30, fontsize=16)\n",
    "    plt.yticks(fontsize=17)\n",
    "    plt.ylabel(evals, fontsize=20)\n",
    "    #plt.title(variable, fontsize=20)\n",
    "    plt.tight_layout()\n",
    "    \n",
    "    plt.savefig('Figures/bar_preds/'+str(evals)+'_'+variable+'.png', bbox_inches='tight')\n",
    "\n",
    "    #plt.show()"
   ]
  },
  {
   "cell_type": "code",
   "execution_count": null,
   "id": "96d89f8b",
   "metadata": {},
   "outputs": [],
   "source": []
  },
  {
   "cell_type": "code",
   "execution_count": null,
   "id": "368d3912",
   "metadata": {},
   "outputs": [],
   "source": [
    "#_, _, _, _, df = load.load_glasgow_attributes(glasgow_file)"
   ]
  },
  {
   "cell_type": "code",
   "execution_count": null,
   "id": "88addb0c",
   "metadata": {},
   "outputs": [],
   "source": [
    "#import seaborn as sns"
   ]
  },
  {
   "cell_type": "code",
   "execution_count": null,
   "id": "e6a91bfb",
   "metadata": {},
   "outputs": [],
   "source": [
    "#sns.heatmap(df.corr(), annot=True)"
   ]
  },
  {
   "cell_type": "code",
   "execution_count": null,
   "id": "f7ee4fe5",
   "metadata": {},
   "outputs": [],
   "source": []
  }
 ],
 "metadata": {
  "kernelspec": {
   "display_name": "Python 3 (ipykernel)",
   "language": "python",
   "name": "python3"
  },
  "language_info": {
   "codemirror_mode": {
    "name": "ipython",
    "version": 3
   },
   "file_extension": ".py",
   "mimetype": "text/x-python",
   "name": "python",
   "nbconvert_exporter": "python",
   "pygments_lexer": "ipython3",
   "version": "3.7.4"
  }
 },
 "nbformat": 4,
 "nbformat_minor": 5
}
